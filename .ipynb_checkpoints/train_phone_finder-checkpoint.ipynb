{
 "cells": [
  {
   "cell_type": "markdown",
   "metadata": {},
   "source": [
    "# Possible next steps for my detector\n",
    "\n",
    "assess accuracy of phone_finder on a different data set to the one on which the classifer was trained \n",
    "\n",
    "reduce number of features relative to the number of examples:\n",
    "* data augmentation by factor 10\n",
    "* process cropped images:\n",
    "\n",
    "```\n",
    "def process(image):\n",
    "    \"\"\" convert the 210x160x3 uint8 frame into a 80 x 80 matrix\"\"\"\n",
    "    image = image[35:195]  # crop\n",
    "    image = image[::2, ::2, :]  # down sample\n",
    "    image = image[:, :, 0]  # remove_color\n",
    "    image[image == 144] = 0  # erase background (background type 1)\n",
    "    image[image == 109] = 0  # erase background (background type 2)\n",
    "    image[image != 0] = 1  # everything else (paddles, ball) just set to 1\n",
    "return image\n",
    "```\n",
    "\n",
    "<br> \n",
    "\n",
    "Try other classifiers: \n",
    "* svm model (scikit-learn; machine-learning-ex6; [opencv](https://www.learnopencv.com/handwritten-digits-classification-an-opencv-c-python-tutorial/))\n",
    "* 3-layer NN (machine-learning-ex3; machine-learning-ex4) or use [Keras](https://machinelearningmastery.com/handwritten-digit-recognition-using-convolutional-neural-networks-python-keras/)\n",
    "\n",
    "<br> \n",
    "\n",
    "Misc:\n",
    "* plot error as a function of training set size \n",
    "* regularization? \n",
    "* `image.thumbnail` keeps aspect ratio same \n",
    "* drawing rectangles:\n",
    "```\n",
    "from PIL import ImageDraw\n",
    "clone = image.copy()\n",
    "draw = ImageDraw.Draw(clone)\n",
    "draw.rectangle((10, 10, 100, 100), outline=128)\n",
    "clone.show()\n",
    "```\n",
    "* `greyscale_image = image.convert('L')`\n",
    "\n",
    "\n",
    "# Ways   to   improve   the   data   collection   of   the   customer"
   ]
  },
  {
   "cell_type": "code",
   "execution_count": null,
   "metadata": {
    "collapsed": true
   },
   "outputs": [],
   "source": []
  }
 ],
 "metadata": {
  "kernelspec": {
   "display_name": "Python 2",
   "language": "python",
   "name": "python2"
  },
  "language_info": {
   "codemirror_mode": {
    "name": "ipython",
    "version": 2
   },
   "file_extension": ".py",
   "mimetype": "text/x-python",
   "name": "python",
   "nbconvert_exporter": "python",
   "pygments_lexer": "ipython2",
   "version": "2.7.14"
  }
 },
 "nbformat": 4,
 "nbformat_minor": 2
}
